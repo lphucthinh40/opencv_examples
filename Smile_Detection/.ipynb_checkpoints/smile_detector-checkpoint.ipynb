{
 "cells": [
  {
   "cell_type": "code",
   "execution_count": 1,
   "metadata": {},
   "outputs": [],
   "source": [
    "import cv2\n",
    "import dlib\n",
    "import numpy as np\n",
    "from renderFace import renderFace\n",
    "import matplotlib.pyplot as plt\n",
    "\n",
    "%matplotlib inline"
   ]
  },
  {
   "cell_type": "code",
   "execution_count": 2,
   "metadata": {},
   "outputs": [],
   "source": [
    "detector = dlib.get_frontal_face_detector()\n",
    "MODEL_PATH = \"./models/shape_predictor_68_face_landmarks.dat\"\n",
    "shape_predictor = dlib.shape_predictor(MODEL_PATH)"
   ]
  },
  {
   "cell_type": "code",
   "execution_count": 3,
   "metadata": {},
   "outputs": [],
   "source": [
    "class SmileDetector:\n",
    "    def __init__(self, landmark_model_path):\n",
    "        self.SMILE_THRESHOLD = 1.55\n",
    "        self.face_detector = dlib.get_frontal_face_detector()\n",
    "        try:\n",
    "            self.landmark_detector = dlib.shape_predictor(landmark_model_path)\n",
    "        except:\n",
    "            print(f\"ERROR: unable to load landmark model in this path: {landmark_model_path}\")\n",
    "        \n",
    "    def detect(self, image):\n",
    "        all_facial_landmarks, face_bboxes = self._get_facial_landmarks(image)\n",
    "        smiling_faces = []\n",
    "        for i, facial_landmarks in enumerate(all_facial_landmarks):\n",
    "            mouth_ratio = self._compute_mouth_ratio(facial_landmarks)\n",
    "            if mouth_ratio >= self.SMILE_THRESHOLD:\n",
    "                smiling_faces.append(face_bboxes[i])\n",
    "        return smiling_faces\n",
    "    \n",
    "    def isSmiling(self, image):\n",
    "        smiling_faces = self.detect(image)\n",
    "        if len(smiling_faces) > 0:\n",
    "            return True\n",
    "        else:\n",
    "            return False            \n",
    "            \n",
    "    def _compute_mouth_ratio(self, dlib_facial_landmarks):\n",
    "        jaw_left, jaw_right = dlib_facial_landmarks.part(7), dlib_facial_landmarks.part(9)\n",
    "        lip_left, lip_right = dlib_facial_landmarks.part(48), dlib_facial_landmarks.part(54)\n",
    "        jaw_width = np.sqrt((jaw_left.x-jaw_right.x)**2+(jaw_left.y-jaw_right.y)**2)\n",
    "        lip_width = np.sqrt((lip_left.x-lip_right.x)**2+(lip_left.y-lip_right.y)**2)\n",
    "        return lip_width/jaw_width\n",
    "        \n",
    "    def _get_facial_landmarks(self, image):\n",
    "        face_rects = self.face_detector(image, 0)\n",
    "        all_facial_landmarks = []\n",
    "        face_bboxes = []\n",
    "        for face in face_rects:\n",
    "            face_bbox = (int(face.left()), \n",
    "                         int(face.top()), \n",
    "                         int(face.right()),\n",
    "                         int(face.bottom()))\n",
    "            rect = dlib.rectangle(face_bbox[0], face_bbox[1], face_bbox[2], face_bbox[3])\n",
    "            landmarks = self.landmark_detector(image, rect)\n",
    "            all_facial_landmarks.append(landmarks)\n",
    "            face_bboxes.append(face_bbox)\n",
    "        return all_facial_landmarks, face_bboxes"
   ]
  },
  {
   "cell_type": "code",
   "execution_count": 4,
   "metadata": {},
   "outputs": [],
   "source": [
    "smile_detector = SmileDetector(MODEL_PATH)"
   ]
  },
  {
   "cell_type": "code",
   "execution_count": 5,
   "metadata": {},
   "outputs": [
    {
     "name": "stdout",
     "output_type": "stream",
     "text": [
      "\n",
      "Processed 0 frames\n",
      "Smile detected in Frames: []\n",
      "\n",
      "Processed 50 frames\n",
      "Smile detected in Frames: [14, 15, 16, 17, 18, 19, 20, 21, 22, 23, 24, 25, 26, 27, 28, 29, 30, 31, 32, 33, 34, 35, 36, 37, 38, 39, 40, 41, 42, 43, 44, 45, 46, 47, 48, 49, 50]\n",
      "\n",
      "Processed 100 frames\n",
      "Smile detected in Frames: [14, 15, 16, 17, 18, 19, 20, 21, 22, 23, 24, 25, 26, 27, 28, 29, 30, 31, 32, 33, 34, 35, 36, 37, 38, 39, 40, 41, 42, 43, 44, 45, 46, 47, 48, 49, 50, 51, 52, 53, 54, 55, 56, 57, 58, 59, 60, 61, 62, 63, 64, 65, 66, 67, 68, 69, 70, 71, 72, 73, 74, 75, 76, 77, 78, 79, 80, 81, 82, 83, 84, 85, 86, 87, 88, 89, 90, 91, 92, 93, 94, 95, 96, 97, 98, 99, 100]\n",
      "\n",
      "Processed 150 frames\n",
      "Smile detected in Frames: [14, 15, 16, 17, 18, 19, 20, 21, 22, 23, 24, 25, 26, 27, 28, 29, 30, 31, 32, 33, 34, 35, 36, 37, 38, 39, 40, 41, 42, 43, 44, 45, 46, 47, 48, 49, 50, 51, 52, 53, 54, 55, 56, 57, 58, 59, 60, 61, 62, 63, 64, 65, 66, 67, 68, 69, 70, 71, 72, 73, 74, 75, 76, 77, 78, 79, 80, 81, 82, 83, 84, 85, 86, 87, 88, 89, 90, 91, 92, 93, 94, 95, 96, 97, 98, 99, 100, 101, 102, 103, 106]\n",
      "\n",
      "Processed 200 frames\n",
      "Smile detected in Frames: [14, 15, 16, 17, 18, 19, 20, 21, 22, 23, 24, 25, 26, 27, 28, 29, 30, 31, 32, 33, 34, 35, 36, 37, 38, 39, 40, 41, 42, 43, 44, 45, 46, 47, 48, 49, 50, 51, 52, 53, 54, 55, 56, 57, 58, 59, 60, 61, 62, 63, 64, 65, 66, 67, 68, 69, 70, 71, 72, 73, 74, 75, 76, 77, 78, 79, 80, 81, 82, 83, 84, 85, 86, 87, 88, 89, 90, 91, 92, 93, 94, 95, 96, 97, 98, 99, 100, 101, 102, 103, 106, 160, 161, 162, 163, 164, 165, 166, 167, 168, 169, 170, 171, 172, 173, 174, 175, 176, 177, 178, 179, 180, 181, 182, 183, 184, 185, 186, 187, 188, 189, 190, 191]\n",
      "\n",
      "Processed 250 frames\n",
      "Smile detected in Frames: [14, 15, 16, 17, 18, 19, 20, 21, 22, 23, 24, 25, 26, 27, 28, 29, 30, 31, 32, 33, 34, 35, 36, 37, 38, 39, 40, 41, 42, 43, 44, 45, 46, 47, 48, 49, 50, 51, 52, 53, 54, 55, 56, 57, 58, 59, 60, 61, 62, 63, 64, 65, 66, 67, 68, 69, 70, 71, 72, 73, 74, 75, 76, 77, 78, 79, 80, 81, 82, 83, 84, 85, 86, 87, 88, 89, 90, 91, 92, 93, 94, 95, 96, 97, 98, 99, 100, 101, 102, 103, 106, 160, 161, 162, 163, 164, 165, 166, 167, 168, 169, 170, 171, 172, 173, 174, 175, 176, 177, 178, 179, 180, 181, 182, 183, 184, 185, 186, 187, 188, 189, 190, 191, 234, 237, 238, 240, 242, 243, 244, 245, 246, 247, 248, 249, 250]\n",
      "\n",
      "Processed 300 frames\n",
      "Smile detected in Frames: [14, 15, 16, 17, 18, 19, 20, 21, 22, 23, 24, 25, 26, 27, 28, 29, 30, 31, 32, 33, 34, 35, 36, 37, 38, 39, 40, 41, 42, 43, 44, 45, 46, 47, 48, 49, 50, 51, 52, 53, 54, 55, 56, 57, 58, 59, 60, 61, 62, 63, 64, 65, 66, 67, 68, 69, 70, 71, 72, 73, 74, 75, 76, 77, 78, 79, 80, 81, 82, 83, 84, 85, 86, 87, 88, 89, 90, 91, 92, 93, 94, 95, 96, 97, 98, 99, 100, 101, 102, 103, 106, 160, 161, 162, 163, 164, 165, 166, 167, 168, 169, 170, 171, 172, 173, 174, 175, 176, 177, 178, 179, 180, 181, 182, 183, 184, 185, 186, 187, 188, 189, 190, 191, 234, 237, 238, 240, 242, 243, 244, 245, 246, 247, 248, 249, 250, 251, 252, 253, 254, 255, 256, 257, 258, 259, 260, 261, 262, 263, 264, 265, 266, 267, 268, 269, 270, 271, 272, 273, 274, 275, 276, 277, 278, 279, 280, 281, 282, 283, 284, 285, 286, 288, 289, 290, 291, 292, 293, 294, 295, 296, 297, 298, 299, 300]\n",
      "\n",
      "Processed 350 frames\n",
      "Smile detected in Frames: [14, 15, 16, 17, 18, 19, 20, 21, 22, 23, 24, 25, 26, 27, 28, 29, 30, 31, 32, 33, 34, 35, 36, 37, 38, 39, 40, 41, 42, 43, 44, 45, 46, 47, 48, 49, 50, 51, 52, 53, 54, 55, 56, 57, 58, 59, 60, 61, 62, 63, 64, 65, 66, 67, 68, 69, 70, 71, 72, 73, 74, 75, 76, 77, 78, 79, 80, 81, 82, 83, 84, 85, 86, 87, 88, 89, 90, 91, 92, 93, 94, 95, 96, 97, 98, 99, 100, 101, 102, 103, 106, 160, 161, 162, 163, 164, 165, 166, 167, 168, 169, 170, 171, 172, 173, 174, 175, 176, 177, 178, 179, 180, 181, 182, 183, 184, 185, 186, 187, 188, 189, 190, 191, 234, 237, 238, 240, 242, 243, 244, 245, 246, 247, 248, 249, 250, 251, 252, 253, 254, 255, 256, 257, 258, 259, 260, 261, 262, 263, 264, 265, 266, 267, 268, 269, 270, 271, 272, 273, 274, 275, 276, 277, 278, 279, 280, 281, 282, 283, 284, 285, 286, 288, 289, 290, 291, 292, 293, 294, 295, 296, 297, 298, 299, 300, 301, 302, 303, 304, 305, 306, 307, 308, 309, 310, 311, 312, 313, 314, 315, 316, 317, 318, 319, 320, 321, 322, 323, 324, 325, 326, 327, 328, 329, 330, 331, 332, 333, 334, 335, 336, 337, 338, 339, 340, 341]\n",
      "\n",
      "Processed 400 frames\n",
      "Smile detected in Frames: [14, 15, 16, 17, 18, 19, 20, 21, 22, 23, 24, 25, 26, 27, 28, 29, 30, 31, 32, 33, 34, 35, 36, 37, 38, 39, 40, 41, 42, 43, 44, 45, 46, 47, 48, 49, 50, 51, 52, 53, 54, 55, 56, 57, 58, 59, 60, 61, 62, 63, 64, 65, 66, 67, 68, 69, 70, 71, 72, 73, 74, 75, 76, 77, 78, 79, 80, 81, 82, 83, 84, 85, 86, 87, 88, 89, 90, 91, 92, 93, 94, 95, 96, 97, 98, 99, 100, 101, 102, 103, 106, 160, 161, 162, 163, 164, 165, 166, 167, 168, 169, 170, 171, 172, 173, 174, 175, 176, 177, 178, 179, 180, 181, 182, 183, 184, 185, 186, 187, 188, 189, 190, 191, 234, 237, 238, 240, 242, 243, 244, 245, 246, 247, 248, 249, 250, 251, 252, 253, 254, 255, 256, 257, 258, 259, 260, 261, 262, 263, 264, 265, 266, 267, 268, 269, 270, 271, 272, 273, 274, 275, 276, 277, 278, 279, 280, 281, 282, 283, 284, 285, 286, 288, 289, 290, 291, 292, 293, 294, 295, 296, 297, 298, 299, 300, 301, 302, 303, 304, 305, 306, 307, 308, 309, 310, 311, 312, 313, 314, 315, 316, 317, 318, 319, 320, 321, 322, 323, 324, 325, 326, 327, 328, 329, 330, 331, 332, 333, 334, 335, 336, 337, 338, 339, 340, 341, 382, 383, 384, 386, 387, 388, 389, 390, 391, 393, 394, 395, 396, 397, 398, 399, 400]\n"
     ]
    }
   ],
   "source": [
    "# From: video processing script from OpenCV.org Computer Vision II course\n",
    "\n",
    "# Initializing video capture object.\n",
    "capture = cv2.VideoCapture(\"./videos/smile.mp4\")\n",
    "if(False == capture.isOpened()):\n",
    "    print(\"[ERROR] Video not opened properly\")    \n",
    "\n",
    "# Create a VideoWriter object\n",
    "smileDetectionOut = cv2.VideoWriter(\"smileDetectionOutput.avi\",\n",
    "                                   cv2.VideoWriter_fourcc('M','J','P','G'),\n",
    "                                   15,(int(capture.get(cv2.CAP_PROP_FRAME_WIDTH)), \n",
    "                                       int(capture.get(cv2.CAP_PROP_FRAME_HEIGHT))))\n",
    "    \n",
    "frame_number = 0\n",
    "smile_frames = []\n",
    "while (True):\n",
    "    # grab the next frame\n",
    "    isGrabbed, frame = capture.read()\n",
    "    if not isGrabbed:\n",
    "        break\n",
    "        \n",
    "    imDlib = cv2.cvtColor(frame, cv2.COLOR_BGR2RGB)\n",
    "    frame_has_smile = smile_detector.isSmiling(imDlib)\n",
    "    if (True == frame_has_smile):\n",
    "        cv2.putText(frame, \"Smiling :)\", (20, 80), cv2.FONT_HERSHEY_SIMPLEX, 1.0, (0, 0, 255), 2, cv2.LINE_AA)\n",
    "        smile_frames.append(frame_number)\n",
    "#         print(\"Smile detected in Frame# {}\".format(frame_number))\n",
    "    if frame_number % 50 == 0:\n",
    "        print('\\nProcessed {} frames'.format(frame_number))\n",
    "        print(\"Smile detected in Frames: {}\".format(smile_frames))\n",
    "    # Write to VideoWriter\n",
    "    smileDetectionOut.write(frame)\n",
    "    \n",
    "    frame_number += 1\n",
    "\n",
    "capture.release()\n",
    "smileDetectionOut.release()"
   ]
  },
  {
   "cell_type": "code",
   "execution_count": null,
   "metadata": {},
   "outputs": [],
   "source": []
  }
 ],
 "metadata": {
  "kernelspec": {
   "display_name": "Python 3",
   "language": "python",
   "name": "python3"
  },
  "language_info": {
   "codemirror_mode": {
    "name": "ipython",
    "version": 3
   },
   "file_extension": ".py",
   "mimetype": "text/x-python",
   "name": "python",
   "nbconvert_exporter": "python",
   "pygments_lexer": "ipython3",
   "version": "3.6.13"
  }
 },
 "nbformat": 4,
 "nbformat_minor": 4
}
